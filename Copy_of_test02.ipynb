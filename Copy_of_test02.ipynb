{
  "nbformat": 4,
  "nbformat_minor": 0,
  "metadata": {
    "colab": {
      "provenance": [],
      "toc_visible": true,
      "authorship_tag": "ABX9TyPbkRJHkArAFIlBAa8sEFcx",
      "include_colab_link": true
    },
    "kernelspec": {
      "name": "python3",
      "display_name": "Python 3"
    },
    "language_info": {
      "name": "python"
    }
  },
  "cells": [
    {
      "cell_type": "markdown",
      "metadata": {
        "id": "view-in-github",
        "colab_type": "text"
      },
      "source": [
        "<a href=\"https://colab.research.google.com/github/GoMimiGO/FEWD-CoffeeShop/blob/main/Copy_of_test02.ipynb\" target=\"_parent\"><img src=\"https://colab.research.google.com/assets/colab-badge.svg\" alt=\"Open In Colab\"/></a>"
      ]
    },
    {
      "cell_type": "markdown",
      "source": [
        "# Introduction"
      ],
      "metadata": {
        "id": "0y46lwSvkhJ6"
      }
    },
    {
      "cell_type": "markdown",
      "source": [
        "## Header 2"
      ],
      "metadata": {
        "id": "57nKrgsIkrSQ"
      }
    },
    {
      "cell_type": "code",
      "execution_count": null,
      "metadata": {
        "colab": {
          "base_uri": "https://localhost:8080/"
        },
        "id": "C4PT9nMNhgpm",
        "outputId": "4e2a71c4-22ee-45aa-bd32-290ecda5b43f"
      },
      "outputs": [
        {
          "output_type": "stream",
          "name": "stdout",
          "text": [
            "Hello World!!\n",
            "hello world??\n"
          ]
        }
      ],
      "source": [
        "print(\"Hello World!!\")\n",
        "print(\"hello world??\")"
      ]
    },
    {
      "cell_type": "markdown",
      "source": [
        "# Another Header"
      ],
      "metadata": {
        "id": "e78wSxdmlCDn"
      }
    },
    {
      "cell_type": "code",
      "source": [
        "import matplotlib.pyplot as plt\n",
        "import numpy as np\n",
        "label = ['Adventure', 'Action', 'Drama', 'Comedy', 'Thriller/Suspense',\n",
        "         'Horror', 'Romantic Comedy']\n",
        "no_movies = [941,854,4595,2125,942,\n",
        "             509,548]\n",
        "plt.bar(label, no_movies)\n",
        "plt.xlabel('Genre', fontsize=10)\n",
        "plt.ylabel('No Of Movies', fontsize=10)\n",
        "plt.xticks(label, label, fontsize=10, rotation=90)\n",
        "plt.title('Market Share for Each Genre 1995-2017')\n",
        "plt.show()"
      ],
      "metadata": {
        "colab": {
          "base_uri": "https://localhost:8080/",
          "height": 376
        },
        "id": "x2DYVrjplEYK",
        "outputId": "df1ac1bd-e919-4317-c4d7-bf36e3889c94"
      },
      "execution_count": null,
      "outputs": [
        {
          "output_type": "display_data",
          "data": {
            "text/plain": [
              "<Figure size 432x288 with 1 Axes>"
            ],
            "image/png": "[encoded data removed]"
          },
          "metadata": {
            "needs_background": "light"
          }
        }
      ]
    }
  ]
}